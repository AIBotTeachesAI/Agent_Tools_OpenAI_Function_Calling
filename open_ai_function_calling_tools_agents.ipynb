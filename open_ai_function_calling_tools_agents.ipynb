{
 "cells": [
  {
   "cell_type": "code",
   "execution_count": null,
   "id": "3233c8a2-14c2-4ae6-831f-4682020cbecf",
   "metadata": {},
   "outputs": [],
   "source": []
  },
  {
   "cell_type": "markdown",
   "id": "34872b1d-4990-46dc-9d47-ae12d8f7f0d7",
   "metadata": {},
   "source": [
    "### Courtesy and acknowledgement\n",
    "\n",
    "https://platform.openai.com/docs/guides/function-calling\n",
    "\n",
    "https://cookbook.openai.com/examples/how_to_call_functions_with_chat_models"
   ]
  },
  {
   "cell_type": "code",
   "execution_count": null,
   "id": "58b98510-b161-4911-a88a-741966f83788",
   "metadata": {},
   "outputs": [],
   "source": []
  },
  {
   "cell_type": "markdown",
   "id": "c8086390-11a7-4a2e-bffe-28a74cef5c69",
   "metadata": {},
   "source": [
    "### Set up Sql database"
   ]
  },
  {
   "cell_type": "code",
   "execution_count": 1,
   "id": "b3035aee-141b-4f64-b73c-e70305fe6c47",
   "metadata": {},
   "outputs": [],
   "source": [
    "# Import the sqlite3 library\n",
    "import sqlite3\n",
    "\n",
    "conn = sqlite3.connect('order_information.db',check_same_thread=False)\n",
    "cursor = conn.cursor()\n",
    "\n",
    "cursor.execute('DROP TABLE IF EXISTS order_data')\n",
    "\n",
    "cursor.execute('''\n",
    "CREATE TABLE order_data (\n",
    "    order_no INTEGER PRIMARY KEY,\n",
    "    customer_name TEXT\n",
    "    )\n",
    "''')\n",
    "\n",
    "# Insert rows of data into the table\n",
    "rows_to_insert = [\n",
    "    (1, 'Alice'),\n",
    "    (2, 'Bob'),\n",
    "    (3, 'Charlie')\n",
    "]\n",
    "\n",
    "# Use executemany() to insert multiple rows\n",
    "cursor.executemany('INSERT INTO order_data VALUES (?, ?)', rows_to_insert)\n",
    "\n",
    "# Commit the changes\n",
    "conn.commit()\n"
   ]
  },
  {
   "cell_type": "code",
   "execution_count": 2,
   "id": "8bb66acc-7c5c-4ca7-ac80-a91092c8b5f4",
   "metadata": {},
   "outputs": [],
   "source": [
    "\n",
    "cursor.execute('DROP TABLE IF EXISTS item_data')\n",
    "\n",
    "\n",
    "cursor.execute('''\n",
    "CREATE  TABLE item_data (\n",
    "    order_no INTEGER ,\n",
    "    item_no INTEGER,\n",
    "    item_name TEXT,\n",
    "    item_amount float,\n",
    "    status TEXT\n",
    "    )\n",
    "''')\n",
    "\n",
    "# Insert rows of data into the table\n",
    "rows_to_insert = [\n",
    "    (1, 100,'TV',600, 'Shipped'),\n",
    "    (1, 101,'Fridge',200, 'In Process'),\n",
    "    (2, 200,'VR glasses',400, 'Shipped'),\n",
    "    (2, 201,'Pet robot',100, 'Shipped'),\n",
    "    (3, 100,'TV',100, 'Cancelled')\n",
    "]\n",
    "\n",
    "# Use executemany() to insert multiple rows\n",
    "cursor.executemany('INSERT INTO item_data VALUES (?, ?, ?, ?, ?)', rows_to_insert)\n",
    "\n",
    "# Commit the changes\n",
    "conn.commit()\n",
    "\n",
    "# Always close the connection when done\n",
    "#conn.close()"
   ]
  },
  {
   "cell_type": "code",
   "execution_count": 3,
   "id": "76cc15f3-6fc7-4acf-83ee-f357e0603339",
   "metadata": {},
   "outputs": [],
   "source": [
    "cursor.execute('DROP TABLE IF EXISTS product_data')\n",
    "\n",
    "cursor.execute('''\n",
    "CREATE TABLE product_data (\n",
    "    product_no INTEGER PRIMARY KEY,\n",
    "    product_name TEXT\n",
    "    )\n",
    "''')\n",
    "\n",
    "# Insert rows of data into the table\n",
    "rows_to_insert = [\n",
    "    (1, 'TV'),\n",
    "    (2, 'Fridge'),\n",
    "    (3, 'VR glasses'),\n",
    "    (4, 'Pet robot'),\n",
    "    (5, 'Fitness watch')\n",
    "]\n",
    "\n",
    "# Use executemany() to insert multiple rows\n",
    "cursor.executemany('INSERT INTO product_data VALUES (?, ?)', rows_to_insert)\n",
    "\n",
    "# Commit the changes\n",
    "conn.commit()"
   ]
  },
  {
   "cell_type": "markdown",
   "id": "33033f21-ff1d-44a2-820b-89266d61112a",
   "metadata": {},
   "source": [
    "### Set up Sql metadata fetch functions"
   ]
  },
  {
   "cell_type": "code",
   "execution_count": 4,
   "id": "af687c92-49b0-45ca-ac15-2bcfbd358f35",
   "metadata": {},
   "outputs": [],
   "source": [
    "def find_tables(conn):\n",
    "    \"\"\"Return a list of table names.\"\"\"\n",
    "    table_names = []\n",
    "    tables = conn.execute(\"SELECT name FROM sqlite_master WHERE type='table';\")\n",
    "    for table in tables.fetchall():\n",
    "        table_names.append(table[0])\n",
    "    return table_names\n",
    "\n",
    "\n",
    "def find_columns(conn, table_name):\n",
    "    \"\"\"Return a list of column names.\"\"\"\n",
    "    column_names = []\n",
    "    columns = conn.execute(f\"PRAGMA table_info('{table_name}');\").fetchall()\n",
    "    for col in columns:\n",
    "        column_names.append(col[1])\n",
    "    return column_names\n",
    "\n",
    "\n",
    "def find_database(conn):\n",
    "    \"\"\"Return a list of dicts containing the table name and columns for each table in the database.\"\"\"\n",
    "    table_dicts = []\n",
    "    for table_name in find_tables(conn):\n",
    "        columns_names = find_columns(conn, table_name)\n",
    "        table_dicts.append({\"table_name\": table_name, \"column_names\": columns_names})\n",
    "    return table_dicts"
   ]
  },
  {
   "cell_type": "code",
   "execution_count": 5,
   "id": "abbd29bb-31e6-439d-8fe1-5b20dc0de6f4",
   "metadata": {},
   "outputs": [],
   "source": [
    "database_schema_dict = find_database(conn)\n",
    "database_schema_string = \"\\n\".join(\n",
    "    [\n",
    "        f\"Table: {table['table_name']}\\nColumns: {', '.join(table['column_names'])}\"\n",
    "        for table in database_schema_dict\n",
    "    ]\n",
    ")"
   ]
  },
  {
   "cell_type": "code",
   "execution_count": 20,
   "id": "f83768ff-b8a7-4f86-ac42-fefeade96249",
   "metadata": {},
   "outputs": [
    {
     "name": "stdout",
     "output_type": "stream",
     "text": [
      "Table: order_data\n",
      "Columns: order_no, customer_name\n",
      "Table: item_data\n",
      "Columns: order_no, item_no, item_name, item_amount, status\n",
      "Table: product_data\n",
      "Columns: product_no, product_name\n"
     ]
    }
   ],
   "source": [
    "print (database_schema_string)"
   ]
  },
  {
   "cell_type": "markdown",
   "id": "51c00f32-70b9-4329-a236-e2d20d530a78",
   "metadata": {},
   "source": [
    "### Set up tool to specify the function "
   ]
  },
  {
   "cell_type": "code",
   "execution_count": 6,
   "id": "a35b5499-39b2-402c-80a7-18d6a81248e7",
   "metadata": {},
   "outputs": [],
   "source": [
    "tools = [\n",
    "    {\n",
    "        \"type\": \"function\",\n",
    "        \"function\": {\n",
    "            \"name\": \"invoke_database_api_call\",\n",
    "            \"description\": \"Use this function to answer user questions about data. Input should be a fully formed SQL query.\",\n",
    "            \"parameters\": {\n",
    "                \"type\": \"object\",\n",
    "                \"properties\": {\n",
    "                    \"query\": {\n",
    "                        \"type\": \"string\",\n",
    "                        \"description\": f\"\"\"\n",
    "                                SQL query extracting info to answer the user's question.\n",
    "                                SQL should be written using this database schema:\n",
    "                                {database_schema_string}\n",
    "                                The query should be returned in plain text, not in JSON.\n",
    "                                \"\"\",\n",
    "                    }\n",
    "                },\n",
    "                \"required\": [\"query\"],\n",
    "            },\n",
    "        }\n",
    "    }\n",
    "]"
   ]
  },
  {
   "cell_type": "markdown",
   "id": "dc3a835c-8a7a-4655-b82a-b4c6824e6846",
   "metadata": {},
   "source": [
    "### Set up functions to invoke_database_api_call"
   ]
  },
  {
   "cell_type": "code",
   "execution_count": 7,
   "id": "86567c03-af3c-43fa-9f98-d01607c12aa9",
   "metadata": {},
   "outputs": [],
   "source": [
    "def invoke_database_api_call(conn, query):\n",
    "    \"\"\"Function to query SQLite database with a provided SQL query.\"\"\"\n",
    "    try:\n",
    "        results = str(conn.execute(query).fetchall())\n",
    "    except Exception as e:\n",
    "        results = f\"query failed with error: {e}\"\n",
    "    return results\n",
    "\n",
    "def execute_function(message):\n",
    "    if message.tool_calls[0].function.name == \"invoke_database_api_call\":\n",
    "        query = json.loads(message.tool_calls[0].function.arguments)[\"query\"]\n",
    "        results = invoke_database_api_call(conn, query)\n",
    "    else:\n",
    "        results = f\"Error: function {message.tool_calls[0].function.name} does not exist\"\n",
    "    return results"
   ]
  },
  {
   "cell_type": "code",
   "execution_count": 22,
   "id": "19418aca-9fbe-4a37-905c-fadb2df25163",
   "metadata": {},
   "outputs": [
    {
     "name": "stdin",
     "output_type": "stream",
     "text": [
      " ········\n"
     ]
    }
   ],
   "source": [
    "from openai import OpenAI\n",
    "import json\n",
    "import getpass\n",
    "import os\n",
    "\n",
    "\n",
    "os.environ[\"OPENAI_API_KEY\"] = getpass.getpass()\n",
    "\n",
    "client = OpenAI()"
   ]
  },
  {
   "cell_type": "code",
   "execution_count": 9,
   "id": "10d7168a-9787-44b7-aedd-0603d345faa1",
   "metadata": {},
   "outputs": [],
   "source": [
    "from termcolor import colored  \n",
    "\n",
    "\n",
    "model = \"gpt-3.5-turbo-0613\"\n",
    "\n",
    "def llm_response_request(messages, tools=None, tool_choice=None, model=model):\n",
    "    try:\n",
    "        response = client.chat.completions.create(\n",
    "            model=model,\n",
    "            messages=messages,\n",
    "            tools=tools,\n",
    "            tool_choice=tool_choice,\n",
    "        )\n",
    "        return response\n",
    "    except Exception as e:\n",
    "        print(\"Unable to generate ChatCompletion response\")\n",
    "        print(f\"Exception: {e}\")\n",
    "        return e"
   ]
  },
  {
   "cell_type": "code",
   "execution_count": 10,
   "id": "d0bc0aad-0e69-46e8-927d-349059af5f20",
   "metadata": {},
   "outputs": [],
   "source": [
    "def pretty_print_conversation(messages):\n",
    "    role_to_color = {\n",
    "        \"system\": \"blue\",\n",
    "        \"user\": \"grey\",\n",
    "        \"assistant\": \"cyan\",\n",
    "        \"function\": \"red\",\n",
    "    }\n",
    "    \n",
    "    for message in messages:\n",
    "        if message[\"role\"] == \"system\":\n",
    "            print(colored(f\"system: {message['content']}\\n\", role_to_color[message[\"role\"]]))\n",
    "        elif message[\"role\"] == \"user\":\n",
    "            print(colored(f\"user: {message['content']}\\n\", role_to_color[message[\"role\"]]))\n",
    "        elif message[\"role\"] == \"assistant\" and message.get(\"function_call\"):\n",
    "            print(colored(f\"assistant: {message['function_call']}\\n\", role_to_color[message[\"role\"]]))\n",
    "        elif message[\"role\"] == \"assistant\" and not message.get(\"function_call\"):\n",
    "            print(colored(f\"assistant: {message['content']}\\n\", role_to_color[message[\"role\"]]))\n",
    "        elif message[\"role\"] == \"function\":\n",
    "            print(colored(f\"function ({message['name']}): {message['content']}\\n\", role_to_color[message[\"role\"]]))"
   ]
  },
  {
   "cell_type": "markdown",
   "id": "b9cd81e4-ee79-4a2d-9d36-ec26b0a254d2",
   "metadata": {},
   "source": [
    "### Use case 1 : Ask about order status"
   ]
  },
  {
   "cell_type": "code",
   "execution_count": 33,
   "id": "f894a0ef-5d2e-4625-a068-f974d2b65eee",
   "metadata": {},
   "outputs": [
    {
     "name": "stdout",
     "output_type": "stream",
     "text": [
      "assistant_message ChatCompletionMessage(content=None, role='assistant', function_call=None, tool_calls=[ChatCompletionMessageToolCall(id='call_txhpjlqIIU7kZax5gdJyLckk', function=Function(arguments='{\\n\"query\": \"SELECT item_name, status FROM item_data WHERE order_no = (SELECT order_no FROM order_data WHERE customer_name = \\'Bob\\')\"\\n}', name='invoke_database_api_call'), type='function')])\n",
      "\n",
      "assistant_message.tool_calls[0].function Function(arguments='{\\n\"query\": \"SELECT item_name, status FROM item_data WHERE order_no = (SELECT order_no FROM order_data WHERE customer_name = \\'Bob\\')\"\\n}', name='invoke_database_api_call')\n",
      "\n",
      "str(assistant_message.tool_calls[0].function Function(arguments='{\\n\"query\": \"SELECT item_name, status FROM item_data WHERE order_no = (SELECT order_no FROM order_data WHERE customer_name = \\'Bob\\')\"\\n}', name='invoke_database_api_call')\n",
      "\n",
      "json loads assistant_message {'query': \"SELECT item_name, status FROM item_data WHERE order_no = (SELECT order_no FROM order_data WHERE customer_name = 'Bob')\"}\n",
      "\n",
      "messages\n",
      "\n",
      "\u001b[34msystem: Answer user questions by generating SQL queries against the order_information Database.\n",
      "\u001b[0m\n",
      "\u001b[30muser: Hi, My name is Bob, Can you let me know the status of my order items?\n",
      "\u001b[0m\n",
      "\u001b[36massistant: Function(arguments='{\\n\"query\": \"SELECT item_name, status FROM item_data WHERE order_no = (SELECT order_no FROM order_data WHERE customer_name = \\'Bob\\')\"\\n}', name='invoke_database_api_call')\n",
      "\u001b[0m\n",
      "\u001b[31mfunction (invoke_database_api_call): [('VR glasses', 'Shipped'), ('Pet robot', 'Shipped')]\n",
      "\u001b[0m\n"
     ]
    }
   ],
   "source": [
    "messages = []\n",
    "messages.append({\"role\": \"system\", \"content\": \"Answer user questions by generating SQL queries against the order_information Database.\"})\n",
    "messages.append({\"role\": \"user\", \"content\": \"Hi, My name is Bob, Can you let me know the status of my order items?\"})\n",
    "chat_response = llm_response_request(messages, tools)\n",
    "assistant_message = chat_response.choices[0].message\n",
    "print ('assistant_message',assistant_message)\n",
    "print ('\\nassistant_message.tool_calls[0].function',assistant_message.tool_calls[0].function)\n",
    "print ('\\nstr(assistant_message.tool_calls[0].function',str(assistant_message.tool_calls[0].function))\n",
    "print ('\\njson loads assistant_message',json.loads(str(assistant_message.tool_calls[0].function.arguments)))\n",
    "assistant_message.content = str(assistant_message.tool_calls[0].function)\n",
    "#print ('\\nassistant_message',assistant_message)\n",
    "messages.append({\"role\": assistant_message.role, \"content\": assistant_message.content})\n",
    "if assistant_message.tool_calls:\n",
    "    results = execute_function(assistant_message)\n",
    "    messages.append({\"role\": \"function\", \"tool_call_id\": assistant_message.tool_calls[0].id, \"name\": assistant_message.tool_calls[0].function.name, \"content\": results})\n",
    "print ('\\nmessages\\n')\n",
    "pretty_print_conversation(messages)"
   ]
  },
  {
   "cell_type": "code",
   "execution_count": 12,
   "id": "2dac869e-f9db-4d23-851f-c9824bdd1174",
   "metadata": {},
   "outputs": [
    {
     "data": {
      "text/plain": [
       "[{'role': 'system',\n",
       "  'content': 'Answer user questions by generating SQL queries against the order_information Database.'},\n",
       " {'role': 'user',\n",
       "  'content': 'Hi, My name is Bob, Can you let me know the status of my order items?'},\n",
       " {'role': 'assistant',\n",
       "  'content': 'Function(arguments=\\'{\\\\n\"query\": \"SELECT item_no, item_name, status FROM item_data WHERE order_no IN(SELECT order_no FROM order_data WHERE customer_name = \\\\\\'Bob\\\\\\')\"\\\\n}\\', name=\\'invoke_database_api_call\\')'},\n",
       " {'role': 'function',\n",
       "  'tool_call_id': 'call_7e0v0u29hScwTveWd04UVJKK',\n",
       "  'name': 'invoke_database_api_call',\n",
       "  'content': \"[(200, 'VR glasses', 'Shipped'), (201, 'Pet robot', 'Shipped')]\"}]"
      ]
     },
     "execution_count": 12,
     "metadata": {},
     "output_type": "execute_result"
    }
   ],
   "source": [
    "messages"
   ]
  },
  {
   "cell_type": "code",
   "execution_count": 13,
   "id": "9b304e7c-18da-462a-9d5a-e2e1b31db5e4",
   "metadata": {},
   "outputs": [
    {
     "data": {
      "text/plain": [
       "[{'role': 'system',\n",
       "  'content': 'summarize in text format only the final status information provided by the content in ask_database function results provided in the messages.'},\n",
       " {'role': 'user',\n",
       "  'content': '[{\\'role\\': \\'system\\', \\'content\\': \\'Answer user questions by generating SQL queries against the order_information Database.\\'}, {\\'role\\': \\'user\\', \\'content\\': \\'Hi, My name is Bob, Can you let me know the status of my order items?\\'}, {\\'role\\': \\'assistant\\', \\'content\\': \\'Function(arguments=\\\\\\'{\\\\\\\\n\"query\": \"SELECT item_no, item_name, status FROM item_data WHERE order_no IN(SELECT order_no FROM order_data WHERE customer_name = \\\\\\\\\\\\\\'Bob\\\\\\\\\\\\\\')\"\\\\\\\\n}\\\\\\', name=\\\\\\'invoke_database_api_call\\\\\\')\\'}, {\\'role\\': \\'function\\', \\'tool_call_id\\': \\'call_7e0v0u29hScwTveWd04UVJKK\\', \\'name\\': \\'invoke_database_api_call\\', \\'content\\': \"[(200, \\'VR glasses\\', \\'Shipped\\'), (201, \\'Pet robot\\', \\'Shipped\\')]\"}]'}]"
      ]
     },
     "execution_count": 13,
     "metadata": {},
     "output_type": "execute_result"
    }
   ],
   "source": [
    "final_message = []\n",
    "final_message.append({\"role\": \"system\", \"content\": \"summarize in text format only the final status information provided by the content in ask_database function results provided in the messages.\"})\n",
    "\n",
    "c = f\"{messages}\"\n",
    "c \n",
    "final_message.append({\"role\": \"user\", \"content\": f\"{c}\"})\n",
    "final_message\n"
   ]
  },
  {
   "cell_type": "code",
   "execution_count": 14,
   "id": "eff96e16-2d69-4953-9f27-fae2798cb7ec",
   "metadata": {},
   "outputs": [],
   "source": [
    "response = client.chat.completions.create(\n",
    "            model=model,\n",
    "            messages=final_message\n",
    "        )"
   ]
  },
  {
   "cell_type": "code",
   "execution_count": 15,
   "id": "fa83e0e1-f154-445f-9b04-5e600b9ad645",
   "metadata": {},
   "outputs": [
    {
     "name": "stdout",
     "output_type": "stream",
     "text": [
      "final response\n",
      "\n",
      "\u001b[32mThe final status information provided by the content in the ask_database function results is:\n",
      "- Order item with item number 200, item name 'VR glasses', and status 'Shipped'\n",
      "- Order item with item number 201, item name 'Pet robot', and status 'Shipped'\u001b[0m\n"
     ]
    }
   ],
   "source": [
    "        \n",
    "print ('final response\\n')\n",
    "print (colored(response.choices[0].message.content,'green'))"
   ]
  },
  {
   "cell_type": "markdown",
   "id": "d328f5c6-28c6-4819-8feb-2d8116bb7e38",
   "metadata": {},
   "source": [
    "### Use case 2 : Ask about product catalog"
   ]
  },
  {
   "cell_type": "code",
   "execution_count": 16,
   "id": "135d50d0-9641-4e31-a9c8-2630c554e57e",
   "metadata": {},
   "outputs": [
    {
     "name": "stdout",
     "output_type": "stream",
     "text": [
      "\u001b[34msystem: Answer user questions by generating SQL queries against the order_information Database.\n",
      "\u001b[0m\n",
      "\u001b[30muser: Hi, Can you let me know what are all the product you sell?\n",
      "\u001b[0m\n",
      "\u001b[36massistant: Function(arguments='{\\n  \"query\": \"SELECT product_name FROM product_data\"\\n}', name='invoke_database_api_call')\n",
      "\u001b[0m\n",
      "\u001b[31mfunction (invoke_database_api_call): [('TV',), ('Fridge',), ('VR glasses',), ('Pet robot',), ('Fitness watch',)]\n",
      "\u001b[0m\n"
     ]
    }
   ],
   "source": [
    "messages = []\n",
    "messages.append({\"role\": \"system\", \"content\": \"Answer user questions by generating SQL queries against the order_information Database.\"})\n",
    "\n",
    "messages.append({\"role\": \"user\", \"content\": \"Hi, Can you let me know what are all the product you sell?\"})\n",
    "chat_response = llm_response_request(messages, tools)\n",
    "assistant_message = chat_response.choices[0].message\n",
    "assistant_message.content = str(assistant_message.tool_calls[0].function)\n",
    "messages.append({\"role\": assistant_message.role, \"content\": assistant_message.content})\n",
    "if assistant_message.tool_calls:\n",
    "    results = execute_function(assistant_message)\n",
    "    messages.append({\"role\": \"function\", \"tool_call_id\": assistant_message.tool_calls[0].id, \"name\": assistant_message.tool_calls[0].function.name, \"content\": results})\n",
    "pretty_print_conversation(messages)"
   ]
  },
  {
   "cell_type": "code",
   "execution_count": 18,
   "id": "cae79cd5-b1d3-4dee-86e4-782c3512e137",
   "metadata": {},
   "outputs": [
    {
     "name": "stdout",
     "output_type": "stream",
     "text": [
      "final response\n",
      "\n",
      "\u001b[32m- The user asked: \"Can you let me know what are all the products you sell?\"\n",
      "- The assistant responded by calling the function `invoke_database_api_call` with the argument `query = \"SELECT product_name FROM product_data\"`.\n",
      "- The function `invoke_database_api_call` returned a list of products: \n",
      "  - TV\n",
      "  - Fridge\n",
      "  - VR glasses\n",
      "  - Pet robot\n",
      "  - Fitness watch\u001b[0m\n"
     ]
    }
   ],
   "source": [
    "final_message = []\n",
    "final_message.append({\"role\": \"system\", \"content\": \"summarize in text format only the final status information provided by the content in ask_database function results provided in the messages. list items in bulleted format\"})\n",
    "\n",
    "c = f\"{messages}\"\n",
    "c \n",
    "final_message.append({\"role\": \"user\", \"content\": f\"{c}\"})\n",
    "final_message\n",
    "response = client.chat.completions.create(\n",
    "            model=model,\n",
    "            messages=final_message\n",
    "        )\n",
    "print ('final response\\n')\n",
    "print (colored(response.choices[0].message.content,'green'))"
   ]
  }
 ],
 "metadata": {
  "kernelspec": {
   "display_name": "Python 3 (ipykernel)",
   "language": "python",
   "name": "python3"
  },
  "language_info": {
   "codemirror_mode": {
    "name": "ipython",
    "version": 3
   },
   "file_extension": ".py",
   "mimetype": "text/x-python",
   "name": "python",
   "nbconvert_exporter": "python",
   "pygments_lexer": "ipython3",
   "version": "3.9.4"
  }
 },
 "nbformat": 4,
 "nbformat_minor": 5
}
